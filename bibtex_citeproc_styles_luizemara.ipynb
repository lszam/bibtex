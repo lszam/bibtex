{
  "nbformat": 4,
  "nbformat_minor": 0,
  "metadata": {
    "colab": {
      "provenance": [],
      "mount_file_id": "1KeQTjm6HQRSpxGzRGbIhwmApVEGy81Je",
      "authorship_tag": "ABX9TyOnC/d839Ep4GNEbauA7ToP",
      "include_colab_link": true
    },
    "kernelspec": {
      "name": "python3",
      "display_name": "Python 3"
    },
    "language_info": {
      "name": "python"
    }
  },
  "cells": [
    {
      "cell_type": "markdown",
      "metadata": {
        "id": "view-in-github",
        "colab_type": "text"
      },
      "source": [
        "<a href=\"https://colab.research.google.com/github/lszam/bibtex/blob/main/bibtex_citeproc_styles_luizemara.ipynb\" target=\"_parent\"><img src=\"https://colab.research.google.com/assets/colab-badge.svg\" alt=\"Open In Colab\"/></a>"
      ]
    },
    {
      "cell_type": "markdown",
      "source": [
        "#Formatacao de bibliografias a partir de arquivos bibtex\n",
        "Programa Python para ler arquivos BibTeX de uma pasta e usar um arquivo .csl (Citation Style Language) para produzir uma lista de referências bibliográficas.\n",
        "Agradecimentos às recomendações em https://marcel.bollmann.me/blog/turning-bibtex-into-bibliographies-with-python/\n"
      ],
      "metadata": {
        "id": "IG50sPjrxTzf"
      }
    },
    {
      "cell_type": "code",
      "execution_count": 1,
      "metadata": {
        "id": "aNsAgILPxEny",
        "colab": {
          "base_uri": "https://localhost:8080/"
        },
        "outputId": "b3541b63-7e60-43af-bbb0-7acae8d4070c"
      },
      "outputs": [
        {
          "output_type": "stream",
          "name": "stdout",
          "text": [
            "\u001b[2K     \u001b[90m━━━━━━━━━━━━━━━━━━━━━━━━━━━━━━━━━━━━━━━━\u001b[0m \u001b[32m561.4/561.4 kB\u001b[0m \u001b[31m5.3 MB/s\u001b[0m eta \u001b[36m0:00:00\u001b[0m\n",
            "\u001b[2K     \u001b[90m━━━━━━━━━━━━━━━━━━━━━━━━━━━━━━━━━━━━━━━━\u001b[0m \u001b[32m179.9/179.9 kB\u001b[0m \u001b[31m2.2 MB/s\u001b[0m eta \u001b[36m0:00:00\u001b[0m\n",
            "\u001b[?25h  Preparing metadata (setup.py) ... \u001b[?25l\u001b[?25hdone\n",
            "\u001b[2K     \u001b[90m━━━━━━━━━━━━━━━━━━━━━━━━━━━━━━━━━━━━━━━━\u001b[0m \u001b[32m162.6/162.6 kB\u001b[0m \u001b[31m3.9 MB/s\u001b[0m eta \u001b[36m0:00:00\u001b[0m\n",
            "\u001b[?25h  Preparing metadata (setup.py) ... \u001b[?25l\u001b[?25hdone\n",
            "  Building wheel for bibtexparser (setup.py) ... \u001b[?25l\u001b[?25hdone\n",
            "  Building wheel for pylatexenc (setup.py) ... \u001b[?25l\u001b[?25hdone\n",
            "\u001b[2K     \u001b[90m━━━━━━━━━━━━━━━━━━━━━━━━━━━━━━━━━━━━━━━━\u001b[0m \u001b[32m11.6/11.6 MB\u001b[0m \u001b[31m53.1 MB/s\u001b[0m eta \u001b[36m0:00:00\u001b[0m\n",
            "\u001b[?25h"
          ]
        }
      ],
      "source": [
        "!pip install pybtex -q\n",
        "!pip install citeproc-py -q\n",
        "#!pip install bibtexparser -q\n",
        "#instalar a versao 2 beta do bibtexparser\n",
        "!pip install --no-cache-dir --force-reinstall git+https://github.com/sciunto-org/python-bibtexparser@main -q\n",
        "#instalar estilos\n",
        "!pip install citeproc-py citeproc-py-styles -q"
      ]
    },
    {
      "cell_type": "code",
      "source": [
        "from google.colab import drive\n",
        "drive.mount('/content/drive')\n",
        "folder_path = '/content/drive/MyDrive/Pesquisa/_Artigos_Resumos/ArtigoLitoParana3/bib'\n",
        "# csl_file = '/content/drive/MyDrive/Pesquisa/_Artigos_Resumos/ArtigoLitoParana3/bib/journal-of-geophysical-research-solid-earth.csl'"
      ],
      "metadata": {
        "colab": {
          "base_uri": "https://localhost:8080/"
        },
        "id": "hP7cMwsMa2TJ",
        "outputId": "4cdeda2f-31b5-4256-db60-a8e3d9a9ca44"
      },
      "execution_count": 2,
      "outputs": [
        {
          "output_type": "stream",
          "name": "stdout",
          "text": [
            "Mounted at /content/drive\n"
          ]
        }
      ]
    },
    {
      "cell_type": "code",
      "source": [
        "import os\n",
        "from citeproc.source.bibtex import BibTeX\n",
        "from citeproc import CitationStylesStyle, CitationStylesBibliography, formatter\n",
        "from citeproc_styles import get_style_filepath\n",
        "from citeproc import Citation, CitationItem\n",
        "\n",
        "# Abrir arquivos BibTeX\n",
        "entries = []\n",
        "biblist = []\n",
        "for filename in os.listdir(folder_path):\n",
        "    if filename.endswith('.bib'):\n",
        "        file_path = os.path.join(folder_path, filename)\n",
        "        with open(file_path, 'r', encoding='utf-8') as file:\n",
        "            bib_src = BibTeX(file)\n",
        "            biblist.append(bib_src)  # lista de dicionários\n",
        "\n",
        "# Estilo: abrir CSL do repositorio público\n",
        "# Verificar se a referncia exite em https://github.com/citation-style-language/styles.git\n",
        "stylepath = get_style_filepath(\"journal-of-geophysical-research-solid-earth\")\n",
        "bib_style = CitationStylesStyle(stylepath, validate=False)\n",
        "\n",
        "output_text = ''  #acumular as referências em uma string\n",
        "\n",
        "for bib in biblist:\n",
        "    for key, value in bib.items():\n",
        "        library = CitationStylesBibliography(bib_style, bib, formatter.html)\n",
        "        item = CitationItem(key)\n",
        "        library.register(Citation([item]))\n",
        "        text = ''.join(library.style.render_bibliography([item])[0])\n",
        "        output_text += '<div>' + text + '</div>\\n'  #colocar a tag <div> em cada item\n",
        "\n",
        "#Salva no formato HTML\n",
        "with open('output-bib.html', 'w') as f:\n",
        "    f.write(output_text)"
      ],
      "metadata": {
        "id": "lg0o6Dn_dLVs"
      },
      "execution_count": 6,
      "outputs": []
    }
  ]
}